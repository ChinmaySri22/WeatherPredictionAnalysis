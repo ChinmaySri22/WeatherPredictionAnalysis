{
 "cells": [
  {
   "cell_type": "code",
   "execution_count": 2,
   "id": "db4ff910-c3e2-4135-adae-20929512a7ac",
   "metadata": {},
   "outputs": [
    {
     "name": "stderr",
     "output_type": "stream",
     "text": [
      "C:\\Users\\Chinmay Srivastava\\AppData\\Local\\Temp\\ipykernel_7360\\3176615296.py:34: UserWarning: Parsing dates in %Y-%m-%d format when dayfirst=True was specified. Pass `dayfirst=False` or specify a format to silence this warning.\n",
      "  future_date = pd.to_datetime(future_date_str, dayfirst=True, errors='raise')\n"
     ]
    },
    {
     "name": "stdout",
     "output_type": "stream",
     "text": [
      "Predicted AvgTemp for 2058-05-30 00:00:00: 18.99039077758789\n",
      "Predicted temperature for 2058-05-30 00:00:00: 18.99039077758789\n"
     ]
    }
   ],
   "source": [
    "import pandas as pd\n",
    "from sklearn.model_selection import train_test_split\n",
    "from xgboost import XGBRegressor\n",
    "from sklearn.metrics import mean_squared_error\n",
    "\n",
    "def train_model_and_predict(city_data, features, target_variable, future_date):\n",
    "\n",
    "    city_data['Date'] = pd.to_datetime(city_data['Date'], dayfirst=True, errors='coerce')\n",
    "    city_data['Month'] = city_data['Date'].dt.month  \n",
    "\n",
    "    city_data[['MinTemp', 'MaxTemp', 'Precipitation']] = city_data[['MinTemp', 'MaxTemp', 'Precipitation']].fillna(0)\n",
    "\n",
    "    X = city_data[features + ['Month']]\n",
    "    y = city_data[target_variable]\n",
    "    model = XGBRegressor(objective='reg:squarederror', random_state=42)  \n",
    "    model.fit(X, y)\n",
    "\n",
    "    future_data = pd.DataFrame([[0] * (len(features) + 1)], columns=features + ['Month'])\n",
    "    future_data['Month'] = future_date.month\n",
    "    future_prediction = model.predict(future_data)\n",
    "    print(f'Predicted {target_variable} for {future_date}: {future_prediction[0]}')\n",
    "\n",
    "    return future_prediction[0]\n",
    "\n",
    "city_data = pd.read_csv('Cleaned Data/Bangalore_edited.csv')\n",
    "\n",
    "features = ['MinTemp', 'MaxTemp', 'Precipitation']\n",
    "target_variable = 'AvgTemp'  \n",
    "\n",
    "# Specify the future date for prediction\n",
    "future_date_str = '2058-5-30'\n",
    "\n",
    "try:\n",
    "    future_date = pd.to_datetime(future_date_str, dayfirst=True, errors='raise')\n",
    "    if future_date.month > 12 or future_date.day > 31:\n",
    "        raise ValueError(\"Invalid month or day in the provided date.\")\n",
    "except ValueError as e:\n",
    "    print(f\"Error: {e}\")\n",
    "else:\n",
    "    train_data, test_data = train_test_split(city_data, test_size=0.2, random_state=42)\n",
    "\n",
    "    predicted_temp = train_model_and_predict(train_data, features, target_variable, future_date)\n",
    "    print(f'Predicted temperature for {future_date}: {predicted_temp}')"
   ]
  },
  {
   "cell_type": "code",
   "execution_count": 7,
   "id": "3280a286-6bdb-4aab-a6fb-13c2fd3db036",
   "metadata": {},
   "outputs": [],
   "source": []
  },
  {
   "cell_type": "code",
   "execution_count": 16,
   "id": "e4b12fa7-642d-499b-ae38-5aa9e2294767",
   "metadata": {},
   "outputs": [],
   "source": []
  },
  {
   "cell_type": "code",
   "execution_count": 17,
   "id": "3a508ed9-38ea-4626-8560-b90519da1352",
   "metadata": {},
   "outputs": [
    {
     "name": "stdout",
     "output_type": "stream",
     "text": [
      "Error: day is out of range for month: 2058-5-39, at position 0\n"
     ]
    }
   ],
   "source": []
  },
  {
   "cell_type": "code",
   "execution_count": null,
   "id": "83de64ca-6c45-4815-b876-7799096ad9ae",
   "metadata": {},
   "outputs": [],
   "source": []
  }
 ],
 "metadata": {
  "kernelspec": {
   "display_name": "Python 3 (ipykernel)",
   "language": "python",
   "name": "python3"
  },
  "language_info": {
   "codemirror_mode": {
    "name": "ipython",
    "version": 3
   },
   "file_extension": ".py",
   "mimetype": "text/x-python",
   "name": "python",
   "nbconvert_exporter": "python",
   "pygments_lexer": "ipython3",
   "version": "3.12.1"
  }
 },
 "nbformat": 4,
 "nbformat_minor": 5
}
