{
 "cells": [
  {
   "cell_type": "code",
   "execution_count": 16,
   "id": "b483129d",
   "metadata": {},
   "outputs": [],
   "source": [
    "import pandas as pd\n",
    "df = pd.read_csv('Bangalore_1990_2022_BangaloreCity.csv')"
   ]
  },
  {
   "cell_type": "code",
   "execution_count": 17,
   "id": "85e5258d",
   "metadata": {},
   "outputs": [
    {
     "name": "stdout",
     "output_type": "stream",
     "text": [
      "         time  tavg  tmin  tmax  prcp\n",
      "0  01-01-1990  22.9  19.1  28.4   NaN\n",
      "1  02-01-1990  21.7   NaN  26.5   0.0\n",
      "2  03-01-1990  21.0  16.4  26.5   0.0\n",
      "3  04-01-1990  20.8   NaN  27.4   0.0\n",
      "4  05-01-1990  20.4  14.2  26.1   0.0\n",
      "<class 'pandas.core.frame.DataFrame'>\n",
      "RangeIndex: 11894 entries, 0 to 11893\n",
      "Data columns (total 5 columns):\n",
      " #   Column  Non-Null Count  Dtype  \n",
      "---  ------  --------------  -----  \n",
      " 0   time    11894 non-null  object \n",
      " 1   tavg    11824 non-null  float64\n",
      " 2   tmin    10505 non-null  float64\n",
      " 3   tmax    11265 non-null  float64\n",
      " 4   prcp    7274 non-null   float64\n",
      "dtypes: float64(4), object(1)\n",
      "memory usage: 464.7+ KB\n",
      "None\n",
      "               tavg          tmin          tmax         prcp\n",
      "count  11824.000000  10505.000000  11265.000000  7274.000000\n",
      "mean      23.840426     19.385131     29.932827     4.414119\n",
      "std        2.309899      2.367239      2.957866    12.994655\n",
      "min       17.200000      9.300000     19.800000     0.000000\n",
      "25%       22.300000     18.100000     27.900000     0.000000\n",
      "50%       23.500000     19.800000     29.500000     0.000000\n",
      "75%       25.200000     20.800000     32.000000     2.000000\n",
      "max       32.400000     27.900000     39.200000   271.300000\n"
     ]
    }
   ],
   "source": [
    "print(df.head())\n",
    "print(df.info())\n",
    "print(df.describe())"
   ]
  },
  {
   "cell_type": "code",
   "execution_count": 18,
   "id": "ffd47627",
   "metadata": {},
   "outputs": [],
   "source": [
    "df['time'] = pd.to_datetime(df['time'], format='%d-%m-%Y')\n",
    "\n",
    "df = df.apply(lambda col: col.fillna(col.mean()))\n",
    "\n",
    "df['tmin'] = df['tmin'].astype(float)\n",
    "df['tmax'] = df['tmax'].astype(float)\n",
    "df['tavg'] = df['tavg'].astype(float)\n",
    "df['prcp'] = df['prcp'].astype(float)\n",
    "\n",
    "df = df.drop_duplicates()"
   ]
  },
  {
   "cell_type": "code",
   "execution_count": 19,
   "id": "ecfb56b7",
   "metadata": {},
   "outputs": [],
   "source": [
    "import numpy as np\n",
    "from scipy.stats import zscore\n",
    "\n",
    "from scipy.stats import zscore\n",
    "df = df[(np.abs(zscore(df[['tmin', 'tmax', 'tavg', 'prcp']])) < 3).all(axis=1)]"
   ]
  },
  {
   "cell_type": "code",
   "execution_count": 20,
   "id": "0adfbdaa",
   "metadata": {},
   "outputs": [],
   "source": [
    "df['time'] = pd.to_datetime(df['time'])"
   ]
  },
  {
   "cell_type": "code",
   "execution_count": 21,
   "id": "6c865c53",
   "metadata": {},
   "outputs": [],
   "source": [
    "df.rename(columns={'time': 'Date','tmax': 'MaxTemp', 'tmin': 'MinTemp', 'tavg': 'AvgTemp', 'prcp': 'Precipitation'}, inplace=True)\n",
    "df.to_csv('Bangalore_cleaned.csv', index=False)"
   ]
  },
  {
   "cell_type": "code",
   "execution_count": null,
   "id": "9c632dfc-9e55-4e91-91ab-9e0fd26e1145",
   "metadata": {},
   "outputs": [],
   "source": []
  }
 ],
 "metadata": {
  "kernelspec": {
   "display_name": "Python 3 (ipykernel)",
   "language": "python",
   "name": "python3"
  },
  "language_info": {
   "codemirror_mode": {
    "name": "ipython",
    "version": 3
   },
   "file_extension": ".py",
   "mimetype": "text/x-python",
   "name": "python",
   "nbconvert_exporter": "python",
   "pygments_lexer": "ipython3",
   "version": "3.12.1"
  }
 },
 "nbformat": 4,
 "nbformat_minor": 5
}
